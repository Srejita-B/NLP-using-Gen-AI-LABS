{
 "cells": [
  {
   "cell_type": "code",
   "execution_count": 3,
   "id": "265bdc49",
   "metadata": {},
   "outputs": [],
   "source": [
    "import nltk\n",
    "from nltk.chat.util import Chat, reflections\n",
    "import tkinter as tk\n",
    "from tkinter import scrolledtext"
   ]
  },
  {
   "cell_type": "code",
   "execution_count": 4,
   "id": "6585c5eb",
   "metadata": {},
   "outputs": [],
   "source": [
    "reflections = {                             #if you write something whats the response you will get\n",
    "  \"hello\"       : \"Hi\",\n",
    "  \"i want\"      : \"you want\",\n",
    "  \"i\"          : \"you\",\n",
    "  \"i'm\"        : \"you are\",\n",
    "  \"i'd\"        : \"you would\",\n",
    "  \"i've\"       : \"you have\",\n",
    "  \"i'll\"       : \"you will\",\n",
    "  \"my\"         : \"your\",\n",
    "  \"you are\"    : \"I am\",\n",
    "  \"you were\"   : \"I was\",\n",
    "  \"you've\"     : \"I have\",\n",
    "  \"you'll\"     : \"I will\",\n",
    "  \"your\"       : \"my\",\n",
    "  \"yours\"      : \"mine\",\n",
    "  \"you\"        : \"me\",\n",
    "  \"me\"         : \"you\"\n",
    "}"
   ]
  },
  {
   "cell_type": "code",
   "execution_count": null,
   "id": "cc7186a9",
   "metadata": {},
   "outputs": [],
   "source": [
    "pairs = [\n",
    "    [\n",
    "        r\"my name is (.*)\",\n",
    "        [\"Hello %1, How are you today ?\",]\n",
    "    ]\n",
    "]"
   ]
  },
  {
   "cell_type": "code",
   "execution_count": 10,
   "id": "eb643c01",
   "metadata": {},
   "outputs": [],
   "source": [
    "responses=[\n",
    "   (r\"Hey|Hello|Hi\", [\"Hi, How may I help you?\"]),\n",
    "    (r\"I wish to track my order\", [\"Cant wait to deliver you the package!!What is your Order Number?\"]),\n",
    "   (r\"I got defective product.How to initiate return?\", [\"Oops!We promise it wont happen again!!Kindly share the picture of the defect and click Request Return\"]),\n",
    "    (r\"I got the wrong size\", [\"No Worries! I have got your back!Enter the correct size and product name,I will check for it's availabilty\"]),\n",
    "    (r\"My refund hasnt been processed yet\", [\"We wont let a hole in your pocket.It will be initiated within 7 business days\"]),\n",
    "    (r\"I wish to cancel my|the order\", [\"Ouch ! That hurts! Please head over to track order and click cancel\"])\n",
    "]"
   ]
  },
  {
   "cell_type": "code",
   "execution_count": 11,
   "id": "94443554",
   "metadata": {},
   "outputs": [
    {
     "name": "stdout",
     "output_type": "stream",
     "text": [
      ">Hi\n",
      "Hi, How may I help you?\n",
      ">Hello\n",
      "Hi, How may I help you?\n",
      ">My refund hasnt been processed yet\n",
      "We wont let a hole in your pocket.It will be initiated within 7 business days\n",
      ">quit\n",
      "None\n"
     ]
    }
   ],
   "source": []
  },
  {
   "cell_type": "code",
   "execution_count": null,
   "id": "69dd82ec",
   "metadata": {},
   "outputs": [
    {
     "name": "stderr",
     "output_type": "stream",
     "text": [
      "Exception in Tkinter callback\n",
      "Traceback (most recent call last):\n",
      "  File \"C:\\Users\\SREJITA\\anaconda3\\lib\\tkinter\\__init__.py\", line 1892, in __call__\n",
      "    return self.func(*args)\n",
      "  File \"C:\\Users\\SREJITA\\AppData\\Local\\Temp\\ipykernel_13072\\2907945347.py\", line 8, in send_message\n",
      "    chat_history.insert(tk.END, \"Bot: \" + response + \"\\n\", \"bot\")\n",
      "TypeError: can only concatenate str (not \"NoneType\") to str\n"
     ]
    }
   ],
   "source": [
    "chatbot = Chat(responses, reflections)\n",
    "def send_message():\n",
    "    message = user_input.get()\n",
    "    user_input.delete(0, tk.END)\n",
    "    response = chatbot.respond(message)\n",
    "    chat_history.config(state=tk.NORMAL)\n",
    "    chat_history.insert(tk.END, \"You: \" + message + \"\\n\", \"user\")\n",
    "    chat_history.insert(tk.END, \"Bot: \" + response + \"\\n\", \"bot\")\n",
    "    chat_history.config(state=tk.DISABLED)\n",
    "    chat_history.see(tk.END)\n",
    "\n",
    "# Create the main window\n",
    "root = tk.Tk()\n",
    "root.title(\"ECommerce Support Chatbot\")\n",
    "\n",
    "# Create widgets\n",
    "chat_history = scrolledtext.ScrolledText(root, wrap=tk.WORD)\n",
    "user_input = tk.Entry(root)\n",
    "send_button = tk.Button(root, text=\"Send\", command=send_message)\n",
    "\n",
    "# Configure chat history\n",
    "chat_history.config(state=tk.DISABLED)\n",
    "chat_history.tag_config(\"user\", foreground=\"purple\")\n",
    "chat_history.tag_config(\"bot\", foreground=\"green\")\n",
    "\n",
    "# Place widgets on the grid\n",
    "chat_history.grid(row=0, column=0, columnspan=2, padx=5, pady=5)\n",
    "user_input.grid(row=1, column=0, padx=5, pady=5, sticky=\"ew\")\n",
    "send_button.grid(row=1, column=1, padx=5, pady=5, sticky=\"e\")\n",
    "\n",
    "# Start the main loop\n",
    "root.mainloop()\n"
   ]
  },
  {
   "cell_type": "code",
   "execution_count": null,
   "id": "a194761c",
   "metadata": {},
   "outputs": [],
   "source": []
  }
 ],
 "metadata": {
  "kernelspec": {
   "display_name": "Python 3 (ipykernel)",
   "language": "python",
   "name": "python3"
  },
  "language_info": {
   "codemirror_mode": {
    "name": "ipython",
    "version": 3
   },
   "file_extension": ".py",
   "mimetype": "text/x-python",
   "name": "python",
   "nbconvert_exporter": "python",
   "pygments_lexer": "ipython3",
   "version": "3.9.12"
  }
 },
 "nbformat": 4,
 "nbformat_minor": 5
}
